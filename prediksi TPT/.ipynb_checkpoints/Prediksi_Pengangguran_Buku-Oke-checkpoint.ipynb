{
 "cells": [
  {
   "cell_type": "markdown",
   "metadata": {},
   "source": [
    "# Prediksi Tingkat Pengangguran Terbuka (TPT) di Indonesia"
   ]
  },
  {
   "cell_type": "code",
   "execution_count": 11,
   "metadata": {},
   "outputs": [],
   "source": [
    "# Pendefinisian fungsi dan kelas yang digunakan"
   ]
  },
  {
   "cell_type": "code",
   "execution_count": 4,
   "metadata": {},
   "outputs": [],
   "source": [
    "# Import library keras dan lain-lain\n",
    "import numpy as np # For matrix math\n",
    "from numpy import loadtxt\n",
    "from keras.models import Sequential\n",
    "import matplotlib.pyplot as plt # For plotting\n",
    "import keras\n",
    "from keras.utils import to_categorical\n",
    "from keras.layers import Flatten, Dense, Activation\n",
    "from IPython.display import clear_output"
   ]
  },
  {
   "cell_type": "markdown",
   "metadata": {},
   "source": [
    "# Normalisasi Data\n",
    "\n",
    "![normasilisasi_data](normalisasi.jpg)\n"
   ]
  },
  {
   "cell_type": "code",
   "execution_count": 5,
   "metadata": {},
   "outputs": [],
   "source": [
    "def normalisasi(x):\n",
    "    a = np.max(x)\n",
    "    b = np.min(x)\n",
    "    for i in x:\n",
    "        hasil_normalisasi = (0.8 * (x - b))/(a-b) + 0.1\n",
    "    return hasil_normalisasi"
   ]
  },
  {
   "cell_type": "code",
   "execution_count": 6,
   "metadata": {},
   "outputs": [],
   "source": [
    "# load the data latih\n",
    "# Data Tingkat Pengangguran Terbuka (TPT) mulai Tahun 1999\n",
    "# sampai dengan Tahun 2022\n",
    "\n",
    "TPT = loadtxt('data_pengangguran.csv', delimiter=',')\n",
    "TPT_normal = normalisasi(TPT)\n",
    "\n",
    "TPT_Target = TPT[:,10]\n",
    "TPT_Target_Uji = TPT[:,11]\n",
    "\n",
    "# DATA PELATIHAN =================================\n",
    "# Data dibagi menjadi 10 variabel input (X) dan 1 variabel output (Y)\n",
    "# Input : mulai tahun 1999 sampai tahun 2018\n",
    "\n",
    "X = TPT_normal[:,0:10]\n",
    "\n",
    "# Output : data TPT tahun 2019 dan 2020 \n",
    "\n",
    "Y = TPT_normal[:,10]\n",
    "\n",
    "# DATA UJI PREDIKSI=================================\n",
    "# Geser  dua tahun ke depan\n",
    "# Input : mulai tahun 2001 sampai tahun 2020\n",
    "# Untuk memprediksi TPT Tahun 2021 dan 2022\n",
    "\n",
    "X1 = TPT_normal[:,1:11]\n",
    "\n",
    "# Urut tahun, menggantikan indeks dari 0 s.d 1\n",
    "urut = [1,\n",
    "       2\n",
    "       ]\n"
   ]
  },
  {
   "cell_type": "code",
   "execution_count": 7,
   "metadata": {},
   "outputs": [
    {
     "name": "stdout",
     "output_type": "stream",
     "text": [
      "[[ 4.69  6.36  8.1   9.67 10.75  9.43  8.01  7.22  6.03  5.99  5.42  5.11]\n",
      " [ 5.46  6.08  9.06  9.86 10.36  8.43  7.28  6.25  5.82  5.56  5.2   6.01]]\n"
     ]
    }
   ],
   "source": [
    "print(TPT)"
   ]
  },
  {
   "cell_type": "code",
   "execution_count": 8,
   "metadata": {},
   "outputs": [
    {
     "name": "stdout",
     "output_type": "stream",
     "text": [
      "[[0.1        0.32046205 0.55016502 0.75742574 0.9        0.72574257\n",
      "  0.53828383 0.4339934  0.27689769 0.27161716 0.19636964 0.15544554]\n",
      " [0.20165017 0.28349835 0.67689769 0.78250825 0.84851485 0.59372937\n",
      "  0.44191419 0.30594059 0.24917492 0.21485149 0.16732673 0.27425743]]\n"
     ]
    }
   ],
   "source": [
    "TPT_normal = normalisasi(TPT)\n",
    "print(TPT_normal)"
   ]
  },
  {
   "cell_type": "code",
   "execution_count": 9,
   "metadata": {},
   "outputs": [
    {
     "name": "stdout",
     "output_type": "stream",
     "text": [
      "barisnya = 2\n",
      "kolomnya = 12\n"
     ]
    }
   ],
   "source": [
    "baris, kolom = TPT.shape\n",
    "print(\"barisnya =\",baris)\n",
    "print(\"kolomnya =\",kolom)"
   ]
  },
  {
   "cell_type": "code",
   "execution_count": 10,
   "metadata": {},
   "outputs": [
    {
     "name": "stdout",
     "output_type": "stream",
     "text": [
      "barisnya = 2\n",
      "kolomnya = 12\n"
     ]
    }
   ],
   "source": [
    "baris, kolom = TPT_normal.shape\n",
    "print(\"barisnya =\",baris)\n",
    "print(\"kolomnya =\",kolom)"
   ]
  },
  {
   "cell_type": "markdown",
   "metadata": {},
   "source": [
    "Masukan Jaringan X"
   ]
  },
  {
   "cell_type": "code",
   "execution_count": 35,
   "metadata": {},
   "outputs": [
    {
     "name": "stdout",
     "output_type": "stream",
     "text": [
      "barisnya = 2\n",
      "kolomnya = 10\n"
     ]
    }
   ],
   "source": [
    "baris, kolom = X.shape\n",
    "print(\"barisnya =\",baris)\n",
    "print(\"kolomnya =\",kolom)"
   ]
  },
  {
   "cell_type": "code",
   "execution_count": 36,
   "metadata": {},
   "outputs": [],
   "source": [
    "# Mendefinisikan model keras\n",
    "model = Sequential()\n",
    "model.add(Dense(10, input_dim=10, activation='relu'))\n",
    "model.add(Dense(10, activation='relu'))\n",
    "model.add(Dense(10, activation='relu'))\n",
    "model.add(Dense(1, activation='sigmoid'))"
   ]
  },
  {
   "cell_type": "code",
   "execution_count": 37,
   "metadata": {},
   "outputs": [],
   "source": [
    "# Proses kompilasi (pelatihan) Deep Learning\n",
    "model.compile(loss='mean_squared_error', optimizer='adam', metrics=['mean_squared_error'])"
   ]
  },
  {
   "cell_type": "code",
   "execution_count": 38,
   "metadata": {},
   "outputs": [],
   "source": [
    "class PlotLosses(keras.callbacks.Callback):\n",
    "    def on_train_begin(self, logs={}):\n",
    "        self.i = 0\n",
    "        self.x = []\n",
    "        self.losses = []\n",
    "        self.val_losses = []\n",
    "        \n",
    "        self.fig = plt.figure()\n",
    "        \n",
    "        self.logs = []\n",
    "\n",
    "    def on_epoch_end(self, epoch, logs={}):\n",
    "        \n",
    "        self.logs.append(logs)\n",
    "        self.x.append(self.i)\n",
    "        self.losses.append(logs.get('loss'))\n",
    "        self.val_losses.append(logs.get('val_loss'))\n",
    "        self.i += 1\n",
    "        \n",
    "        clear_output(wait=True)\n",
    "        plt.plot(self.x, self.losses, label=\"loss\")\n",
    "        plt.plot(self.x, self.val_losses, label=\"val_loss\")\n",
    "        plt.legend()\n",
    "        plt.grid()\n",
    "        plt.xlabel('epoch')\n",
    "        plt.ylabel('loss')\n",
    "        plt.show();\n",
    "        \n",
    "plot_losses = PlotLosses()"
   ]
  },
  {
   "cell_type": "code",
   "execution_count": 39,
   "metadata": {},
   "outputs": [
    {
     "data": {
      "image/png": "[encoded data removed]",
      "text/plain": [
       "<Figure size 640x480 with 1 Axes>"
      ]
     },
     "metadata": {},
     "output_type": "display_data"
    },
    {
     "data": {
      "text/plain": [
       "<keras.callbacks.History at 0x2180f83c2e0>"
      ]
     },
     "execution_count": 39,
     "metadata": {},
     "output_type": "execute_result"
    }
   ],
   "source": [
    "model.fit(X, Y,\n",
    "          epochs=500,\n",
    "          validation_data=(X, Y),\n",
    "          callbacks=[plot_losses],\n",
    "          verbose=0)"
   ]
  },
  {
   "cell_type": "code",
   "execution_count": 40,
   "metadata": {},
   "outputs": [
    {
     "name": "stdout",
     "output_type": "stream",
     "text": [
      "2/2 [==============================] - 0s 18ms/step - loss: 1.7652e-04 - mean_squared_error: 1.7652e-04\n",
      "MSE : 0.00\n"
     ]
    }
   ],
   "source": [
    "# evaluate the keras model\n",
    "# Evalusi hasil proses pelatihan Deep Learning\n",
    "# Hitung akurasi hasil pelatihan dalam bentuk Prosentase Keberhasilan\n",
    "# Prosentase Keberhasilan = 100 - MAPE\n",
    "\n",
    "#_, MAPE_pelatihan = model.evaluate(X_normal, Y_normal, batch_size=1)\n",
    "\n",
    "_, MSE = model.evaluate(X, Y, batch_size=1)\n",
    "\n",
    "#print('Prosentase_keberhasilan: %.2f' % (100-MAPE_pelatihan))\n",
    "\n",
    "print('MSE : %.2f' % (MSE))\n"
   ]
  },
  {
   "cell_type": "code",
   "execution_count": 41,
   "metadata": {},
   "outputs": [
    {
     "name": "stdout",
     "output_type": "stream",
     "text": [
      "1/1 [==============================] - 0s 138ms/step\n",
      "[[0.18407676]\n",
      " [0.18153657]]\n"
     ]
    }
   ],
   "source": [
    "# menjalankan fungsi prediksi\n",
    "y_pred = model.predict(X)\n",
    "print(y_pred)"
   ]
  },
  {
   "cell_type": "code",
   "execution_count": 42,
   "metadata": {},
   "outputs": [
    {
     "name": "stdout",
     "output_type": "stream",
     "text": [
      "y_prediksi = [[5.3268814]\n",
      " [5.3076396]]\n"
     ]
    }
   ],
   "source": [
    "# Denormalisasi Data sebelum dibandngkan\n",
    "\n",
    "a = np.max(TPT)\n",
    "b = np.min(TPT)\n",
    "\n",
    "# Rumus\n",
    "# x_denormalisasi = (((x_normalisasi - 0.1)*(a - b))/0.8) + b\n",
    "\n",
    "y_prediksi = (((y_pred - 0.1)*(a - b))/0.8) + b\n",
    "\n",
    "print(\"y_prediksi =\", y_prediksi)"
   ]
  },
  {
   "cell_type": "code",
   "execution_count": 1,
   "metadata": {},
   "outputs": [],
   "source": [
    "# Urut tahun, menggantikan indeks dari 0 s.d 1\n",
    "urutan1 = ['2019',\n",
    "       '2020'\n",
    "       ]"
   ]
  },
  {
   "cell_type": "code",
   "execution_count": 2,
   "metadata": {},
   "outputs": [
    {
     "ename": "NameError",
     "evalue": "name 'plt' is not defined",
     "output_type": "error",
     "traceback": [
      "\u001b[1;31m---------------------------------------------------------------------------\u001b[0m",
      "\u001b[1;31mNameError\u001b[0m                                 Traceback (most recent call last)",
      "Cell \u001b[1;32mIn [2], line 3\u001b[0m\n\u001b[0;32m      1\u001b[0m \u001b[38;5;66;03m# Plot Keluaran Hasil Prediksi Tahap Pelatihan\u001b[39;00m\n\u001b[1;32m----> 3\u001b[0m \u001b[43mplt\u001b[49m\u001b[38;5;241m.\u001b[39mtitle(\u001b[38;5;124m'\u001b[39m\u001b[38;5;124mKeluaran Hasil Prediksi Tahap Pelatihan\u001b[39m\u001b[38;5;124m'\u001b[39m)\n\u001b[0;32m      4\u001b[0m plt\u001b[38;5;241m.\u001b[39mplot(urutan1, TPT_Target, \u001b[38;5;124m'\u001b[39m\u001b[38;5;124m-b\u001b[39m\u001b[38;5;124m'\u001b[39m, label\u001b[38;5;241m=\u001b[39m\u001b[38;5;124m'\u001b[39m\u001b[38;5;124mTarget\u001b[39m\u001b[38;5;124m'\u001b[39m,linewidth\u001b[38;5;241m=\u001b[39m\u001b[38;5;241m3\u001b[39m, markersize\u001b[38;5;241m=\u001b[39m\u001b[38;5;241m12\u001b[39m)\n\u001b[0;32m      5\u001b[0m plt\u001b[38;5;241m.\u001b[39mplot(urutan1, y_prediksi, \u001b[38;5;124m'\u001b[39m\u001b[38;5;124m--r\u001b[39m\u001b[38;5;124m'\u001b[39m, label\u001b[38;5;241m=\u001b[39m\u001b[38;5;124m'\u001b[39m\u001b[38;5;124mPrediksi\u001b[39m\u001b[38;5;124m'\u001b[39m, linewidth\u001b[38;5;241m=\u001b[39m\u001b[38;5;241m3\u001b[39m, markersize\u001b[38;5;241m=\u001b[39m\u001b[38;5;241m12\u001b[39m)\n",
      "\u001b[1;31mNameError\u001b[0m: name 'plt' is not defined"
     ]
    }
   ],
   "source": [
    "# Plot Keluaran Hasil Prediksi Tahap Pelatihan\n",
    "\n",
    "plt.title('Keluaran Hasil Prediksi Tahap Pelatihan')\n",
    "plt.plot(urutan1, TPT_Target, '-b', label='Target',linewidth=3, markersize=12)\n",
    "plt.plot(urutan1, y_prediksi, '--r', label='Prediksi', linewidth=3, markersize=12)\n",
    "plt.legend();\n",
    "plt.xlabel('Tahun')\n",
    "plt.ylabel('TPT (%)')\n",
    "plt.ylim((2,8))\n",
    "plt.grid()"
   ]
  },
  {
   "cell_type": "code",
   "execution_count": 48,
   "metadata": {},
   "outputs": [
    {
     "data": {
      "image/png": "[encoded data removed]",
      "text/plain": [
       "<Figure size 640x480 with 1 Axes>"
      ]
     },
     "metadata": {},
     "output_type": "display_data"
    }
   ],
   "source": [
    "# Plot Kesalahan Prediksi\n",
    "\n",
    "selisih = TPT_Target - y_prediksi.transpose()\n",
    "plt.title('Kesalahan Prediksi Tahap Pelatihan')\n",
    "plt.plot(urutan1, selisih.transpose(), '-m', label='error', linewidth=3, markersize=12)\n",
    "plt.legend();\n",
    "plt.xlabel('Tahun')\n",
    "plt.ylabel('TPT (%)')\n",
    "plt.ylim((-2.5,2.5))\n",
    "plt.grid()"
   ]
  },
  {
   "cell_type": "code",
   "execution_count": 51,
   "metadata": {},
   "outputs": [
    {
     "name": "stdout",
     "output_type": "stream",
     "text": [
      "mse = 0.010128677643559214\n",
      "rmse = 0.10064133168613784\n",
      "MAPE = 2.0752861744769397\n",
      "Persentase_keberhasilan = 97.92471382552306\n"
     ]
    }
   ],
   "source": [
    "# Pengukuran kinerja Deep Learning\n",
    "\n",
    "from sklearn.metrics import mean_squared_error\n",
    "from math import sqrt\n",
    "mse  = mean_squared_error(TPT_Target, y_prediksi)\n",
    "rmse = sqrt(mse)\n",
    "print(\"mse =\",mse)\n",
    "print(\"rmse =\",rmse)\n",
    "\n",
    "def mean_absolute_percentage_error(y_true, y_pred):\n",
    "    y_true, y_pred = np.array(y_true), np.array(y_pred)\n",
    "    return np.mean(np.abs((y_true - y_pred) / y_true)) * 100\n",
    "\n",
    "MAPE = mean_absolute_percentage_error(TPT_Target, y_prediksi)\n",
    "print(\"MAPE =\",MAPE)\n",
    "\n",
    "Persentase_keberhasilan = 100-MAPE\n",
    "print(\"Persentase_keberhasilan =\", Persentase_keberhasilan)"
   ]
  },
  {
   "cell_type": "markdown",
   "metadata": {},
   "source": [
    "# Prediksi TPT\n",
    "# Tahap Pengujian\n",
    "\n",
    "Input : mulai tahun 2001 sampai tahun 2020\n",
    "\n",
    "Untuk Memprediksi TPT di Tahun 2021 dan 2022"
   ]
  },
  {
   "cell_type": "code",
   "execution_count": 52,
   "metadata": {},
   "outputs": [],
   "source": [
    "# Urut tahun, menggantikan indeks dari 0 s.d 1\n",
    "urutan2 = ['2021',\n",
    "       '2022'\n",
    "       ]"
   ]
  },
  {
   "cell_type": "code",
   "execution_count": 53,
   "metadata": {},
   "outputs": [
    {
     "name": "stdout",
     "output_type": "stream",
     "text": [
      "1/1 [==============================] - 0s 48ms/step\n",
      "Hasil prediksi sebelum denormalisasi = [[0.1894073 ]\n",
      " [0.22203599]]\n"
     ]
    }
   ],
   "source": [
    "# Ujicoba prediksi\n",
    "y_uji = model.predict(X1)\n",
    "print('Hasil prediksi sebelum denormalisasi =', y_uji)"
   ]
  },
  {
   "cell_type": "code",
   "execution_count": 54,
   "metadata": {},
   "outputs": [
    {
     "name": "stdout",
     "output_type": "stream",
     "text": [
      "y_pengujian = [[5.3672605]\n",
      " [5.614423 ]]\n"
     ]
    }
   ],
   "source": [
    "# Denormalisasi Data sebelum dibandngkan\n",
    "\n",
    "a = np.max(TPT)\n",
    "b = np.min(TPT)\n",
    "\n",
    "# Rumus\n",
    "# x_denormalisasi = (((x_normalisasi - 0.1)*(a - b))/0.8) + b\n",
    "\n",
    "y_pengujian = (((y_uji - 0.1)*(a - b))/0.8) + b\n",
    "\n",
    "print(\"y_pengujian =\", y_pengujian)"
   ]
  },
  {
   "cell_type": "code",
   "execution_count": 55,
   "metadata": {},
   "outputs": [
    {
     "data": {
      "image/png": "[encoded data removed]",
      "text/plain": [
       "<Figure size 640x480 with 1 Axes>"
      ]
     },
     "metadata": {},
     "output_type": "display_data"
    }
   ],
   "source": [
    "# Plot keluaran hasil prediksi Tahap Pengujian\n",
    "\n",
    "plt.title('Hasil Prediksi Tahap Pengujian')\n",
    "plt.plot(urutan2,  TPT_Target_Uji, '-b', label='Yang diinginkan',linewidth=3, markersize=12)\n",
    "plt.plot(urutan2, y_pengujian, '--r', label='Prediksi', linewidth=3, markersize=12)\n",
    "plt.legend();\n",
    "plt.xlabel('Tahun')\n",
    "plt.ylabel('TPT (%)')\n",
    "plt.ylim((0,10))\n",
    "plt.grid()"
   ]
  },
  {
   "cell_type": "code",
   "execution_count": 56,
   "metadata": {},
   "outputs": [
    {
     "data": {
      "image/png": "[encoded data removed]",
      "text/plain": [
       "<Figure size 640x480 with 1 Axes>"
      ]
     },
     "metadata": {},
     "output_type": "display_data"
    }
   ],
   "source": [
    "# Plot kesalahan prediksi Tahap Pengujian\n",
    "\n",
    "selisih_pengujian = TPT_Target_Uji - y_pengujian.transpose()\n",
    "plt.title('Kesalahan Prediksi Tahap Pengujian')\n",
    "plt.plot(urutan2, selisih_pengujian.transpose(), '-m', label='error', linewidth=3, markersize=12)\n",
    "plt.legend();\n",
    "plt.xlabel('Tahun')\n",
    "plt.ylabel('TPT (%)')\n",
    "plt.ylim((-7,7))\n",
    "plt.grid()"
   ]
  },
  {
   "cell_type": "code",
   "execution_count": 57,
   "metadata": {},
   "outputs": [
    {
     "name": "stdout",
     "output_type": "stream",
     "text": [
      "mse = 0.11133213244165602\n",
      "rmse = 0.33366470062272996\n",
      "MAPE = 8.045555946235842\n",
      "Persentase_keberhasilan = 91.95444405376416\n"
     ]
    }
   ],
   "source": [
    "# Pengukuran kinerja Deep Learning Tahap Pengujian\n",
    "\n",
    "from sklearn.metrics import mean_squared_error\n",
    "from math import sqrt\n",
    "mse1  = mean_squared_error(TPT_Target_Uji, y_pengujian)\n",
    "rmse1 = sqrt(mse1)\n",
    "print(\"mse =\",mse1)\n",
    "print(\"rmse =\",rmse1)\n",
    "\n",
    "MAPE = mean_absolute_percentage_error(TPT_Target_Uji, y_pengujian)\n",
    "print(\"MAPE =\",MAPE)\n",
    "\n",
    "Persentase_keberhasilan = 100-MAPE\n",
    "print(\"Persentase_keberhasilan =\", Persentase_keberhasilan)"
   ]
  },
  {
   "cell_type": "code",
   "execution_count": null,
   "metadata": {},
   "outputs": [],
   "source": []
  }
 ],
 "metadata": {
  "kernelspec": {
   "display_name": "Python 3 (ipykernel)",
   "language": "python",
   "name": "python3"
  },
  "language_info": {
   "codemirror_mode": {
    "name": "ipython",
    "version": 3
   },
   "file_extension": ".py",
   "mimetype": "text/x-python",
   "name": "python",
   "nbconvert_exporter": "python",
   "pygments_lexer": "ipython3",
   "version": "3.10.0"
  }
 },
 "nbformat": 4,
 "nbformat_minor": 2
}
